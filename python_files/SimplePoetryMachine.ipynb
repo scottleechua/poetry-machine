{
 "cells": [
  {
   "cell_type": "markdown",
   "metadata": {},
   "source": [
    "## Setup and Import"
   ]
  },
  {
   "cell_type": "code",
   "execution_count": 10,
   "metadata": {},
   "outputs": [],
   "source": [
    "import numpy as np\n",
    "import pandas as pd\n",
    "from keras.models import Sequential\n",
    "from keras.layers import Dense\n",
    "from keras.layers import Dropout\n",
    "from keras.layers import LSTM\n",
    "from keras.layers import RNN\n",
    "from keras.utils import np_utils\n",
    "import "
   ]
  },
  {
   "cell_type": "code",
   "execution_count": 2,
   "metadata": {},
   "outputs": [],
   "source": [
    "text = (open(\"corpus.txt\", encoding=\"utf-8\").read())\n",
    "text=text.lower()"
   ]
  },
  {
   "cell_type": "code",
   "execution_count": 4,
   "metadata": {},
   "outputs": [],
   "source": [
    "characters = sorted(list(set(text)))\n",
    "\n",
    "n_to_char ={n:char for n, char in enumerate(characters)}\n",
    "char_to_n = {char:n for n, char in enumerate(characters)}"
   ]
  },
  {
   "cell_type": "code",
   "execution_count": 47,
   "metadata": {},
   "outputs": [],
   "source": [
    "X = []\n",
    "Y = []\n",
    "length = len(text)\n",
    "seq_length = 100 #this is a parameter\n",
    "\n",
    "for i in range(0, length-seq_length, 1):\n",
    "    sequence = text[i:i + seq_length]\n",
    "    label =text[i + seq_length]\n",
    "    X.append([char_to_n[char] for char in sequence])\n",
    "    Y.append(char_to_n[label])"
   ]
  },
  {
   "cell_type": "code",
   "execution_count": 48,
   "metadata": {},
   "outputs": [],
   "source": [
    "X_modified = np.reshape(X, (len(X), seq_length, 1))\n",
    "X_modified = X_modified / float(len(characters))\n",
    "Y_modified = np_utils.to_categorical(Y)"
   ]
  },
  {
   "cell_type": "markdown",
   "metadata": {},
   "source": [
    "## Simple Poetry Machine"
   ]
  },
  {
   "cell_type": "code",
   "execution_count": 72,
   "metadata": {},
   "outputs": [],
   "source": [
    "model = Sequential()\n",
    "model.add(LSTM(700, input_shape=(X_modified.shape[1], X_modified.shape[2]), return_sequences=True))\n",
    "model.add(Dropout(0.2))\n",
    "model.add(LSTM(700))\n",
    "model.add(Dropout(0.2))\n",
    "\n",
    "model.add(Dense(Y_modified.shape[1], activation='softmax'))\n",
    "\n",
    "model.compile(loss='categorical_crossentropy', optimizer='adam')"
   ]
  },
  {
   "cell_type": "code",
   "execution_count": 73,
   "metadata": {},
   "outputs": [
    {
     "name": "stdout",
     "output_type": "stream",
     "text": [
      "Epoch 1/15\n",
      "82768/82768 [==============================] - 2117s 26ms/step - loss: 2.8840\n",
      "Epoch 2/15\n",
      "82768/82768 [==============================] - 2112s 26ms/step - loss: 2.6065\n",
      "Epoch 3/15\n",
      "82768/82768 [==============================] - 2109s 25ms/step - loss: 2.4596\n",
      "Epoch 4/15\n",
      "82768/82768 [==============================] - 2104s 25ms/step - loss: 2.3440\n",
      "Epoch 5/15\n",
      "82768/82768 [==============================] - 2096s 25ms/step - loss: 2.2421\n",
      "Epoch 6/15\n",
      "82768/82768 [==============================] - 2088s 25ms/step - loss: 2.1488\n",
      "Epoch 7/15\n",
      "82768/82768 [==============================] - 2080s 25ms/step - loss: 2.0563\n",
      "Epoch 8/15\n",
      "82768/82768 [==============================] - 2071s 25ms/step - loss: 1.9526\n",
      "Epoch 9/15\n",
      "82768/82768 [==============================] - 2078s 25ms/step - loss: 1.8492\n",
      "Epoch 10/15\n",
      "82768/82768 [==============================] - 2061s 25ms/step - loss: 1.7462\n",
      "Epoch 11/15\n",
      "82768/82768 [==============================] - 2022s 24ms/step - loss: 1.6386\n",
      "Epoch 12/15\n",
      "82768/82768 [==============================] - 1924s 23ms/step - loss: 1.5318\n",
      "Epoch 13/15\n",
      "82768/82768 [==============================] - 1924s 23ms/step - loss: 1.4236\n",
      "Epoch 14/15\n",
      "82768/82768 [==============================] - 1925s 23ms/step - loss: 1.3241\n",
      "Epoch 15/15\n",
      "82768/82768 [==============================] - 1924s 23ms/step - loss: 1.2261\n"
     ]
    }
   ],
   "source": [
    "model.fit(X_modified, Y_modified, epochs=15, batch_size=50)\n",
    "# model.fit_generator(gen(), steps_per_epoch=X_modified.shape[0] // 50,epochs=100, verbose=1, workers=2, use_multiprocessing=True)\n",
    "\n",
    "model.save_weights('wider_text_generator_700_0.2_700_0.2_100.h5')"
   ]
  },
  {
   "cell_type": "code",
   "execution_count": 76,
   "metadata": {},
   "outputs": [],
   "source": [
    "model.load_weights('wider_text_generator_700_0.2_700_0.2_100.h5')"
   ]
  },
  {
   "cell_type": "code",
   "execution_count": 104,
   "metadata": {},
   "outputs": [],
   "source": [
    "string_mapped = X[14741]\n",
    "full_string = [n_to_char[value] for value in string_mapped]\n",
    "# generating characters\n",
    "for i in range(400):\n",
    "    x = np.reshape(string_mapped,(1,len(string_mapped), 1))\n",
    "    x = x / float(len(characters))\n",
    "\n",
    "    pred_index = np.argmax(model.predict(x, verbose=0))\n",
    "    seq = [n_to_char[value] for value in string_mapped]\n",
    "    full_string.append(n_to_char[pred_index])\n",
    "\n",
    "    string_mapped.append(pred_index)\n",
    "    string_mapped = string_mapped[1:len(string_mapped)]"
   ]
  },
  {
   "cell_type": "code",
   "execution_count": 105,
   "metadata": {},
   "outputs": [
    {
     "data": {
      "text/plain": [
       "'had love for me -- \\n\\tyou smiled and sweetly said,\\n\"look deep into my eyes and see\\n\\twhat\\'s to be read.\"\\ni am a fairhful sonead \\tand the might to see the stars,\\nand she wind of desire i hild again\\nand the light with stars,\\nand the sigh of my datkless and seeret where the sieh and dead,\\nly hair is mone the stars,\\nand she wild star my heart with shee and still \\nand the spirit die with the sadred streams that fades all whth shee and seeret when the sile was the soun to measu is in the soiee\\nof the de'"
      ]
     },
     "execution_count": 105,
     "metadata": {},
     "output_type": "execute_result"
    }
   ],
   "source": [
    "txt2=\"\"\n",
    "for char in full_string:\n",
    "    txt2 = txt2+char\n",
    "txt2"
   ]
  },
  {
   "cell_type": "code",
   "execution_count": null,
   "metadata": {},
   "outputs": [],
   "source": []
  }
 ],
 "metadata": {
  "kernelspec": {
   "display_name": "Python 3",
   "language": "python",
   "name": "python3"
  },
  "language_info": {
   "codemirror_mode": {
    "name": "ipython",
    "version": 3
   },
   "file_extension": ".py",
   "mimetype": "text/x-python",
   "name": "python",
   "nbconvert_exporter": "python",
   "pygments_lexer": "ipython3",
   "version": "3.5.2"
  }
 },
 "nbformat": 4,
 "nbformat_minor": 2
}
